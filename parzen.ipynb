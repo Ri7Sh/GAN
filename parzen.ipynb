{
  "nbformat": 4,
  "nbformat_minor": 0,
  "metadata": {
    "colab": {
      "name": "parzen.ipynb",
      "provenance": []
    },
    "kernelspec": {
      "name": "python3",
      "display_name": "Python 3"
    }
  },
  "cells": [
    {
      "cell_type": "code",
      "metadata": {
        "id": "OWuRvaPxbmZV",
        "colab_type": "code",
        "colab": {}
      },
      "source": [
        "import numpy as np\n",
        "import sys\n",
        "import os\n"
      ],
      "execution_count": 0,
      "outputs": []
    },
    {
      "cell_type": "code",
      "metadata": {
        "id": "9Ak1rt4ccUJx",
        "colab_type": "code",
        "colab": {}
      },
      "source": [
        "def pdf_gauss(x,mu,cov):\n",
        "  '''\n",
        "    x numpy sample vector\n",
        "    mu mean vector\n",
        "    cov covariance vector\n",
        "  '''\n",
        "  part1 = 1/(((2*np.pi)**(len(mu)/2)) * (np.linalg.det(cov)**(1/2)))\n",
        "  part2 = (-1/2)*((x-mu).T.dot(np.linalg.inv(cov))).dot((x-mu))\n",
        "  return float(part1 * np.exp(part2))"
      ],
      "execution_count": 0,
      "outputs": []
    },
    {
      "cell_type": "code",
      "metadata": {
        "id": "IsDLtkCgeQNV",
        "colab_type": "code",
        "outputId": "27ebce8b-ec74-43d5-9a02-a153dce90c31",
        "colab": {
          "base_uri": "https://localhost:8080/",
          "height": 106
        }
      },
      "source": [
        "#testing above function\n",
        "from matplotlib.mlab import bivariate_normal\n",
        "\n",
        "x = np.array([[0],[0]])\n",
        "mu = np.array([[0],[0]])\n",
        "cov = np.eye(2)\n",
        "\n",
        "mlab_gauss = bivariate_normal(x,x)\n",
        "mlab_gauss = float(mlab_gauss[0]) # because mlab returns an np.array\n",
        "impl_gauss = pdf_gauss(x, mu, cov)\n",
        "\n",
        "print('mlab_gauss:', mlab_gauss)\n",
        "print('impl_gauss:', impl_gauss)\n",
        "assert(mlab_gauss == impl_gauss),\\\n",
        "        'Implementations of the mult. Gaussian return different pdfs'\n"
      ],
      "execution_count": 0,
      "outputs": [
        {
          "output_type": "stream",
          "text": [
            "mlab_gauss: 0.15915494309189535\n",
            "impl_gauss: 0.15915494309189535\n"
          ],
          "name": "stdout"
        },
        {
          "output_type": "stream",
          "text": [
            "/usr/local/lib/python3.6/dist-packages/ipykernel_launcher.py:7: MatplotlibDeprecationWarning: The bivariate_normal function was deprecated in Matplotlib 2.2 and will be removed in 3.1.\n",
            "  import sys\n"
          ],
          "name": "stderr"
        }
      ]
    },
    {
      "cell_type": "code",
      "metadata": {
        "id": "N1ie32Rea2tn",
        "colab_type": "code",
        "colab": {}
      },
      "source": [
        "def window(x,l=1):\n",
        "  for row in x:\n",
        "    if np.abs(row)>(l/2):\n",
        "      return 0\n",
        "  return 1"
      ],
      "execution_count": 0,
      "outputs": []
    }
  ]
}